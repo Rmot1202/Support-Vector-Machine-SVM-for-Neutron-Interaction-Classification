{
 "cells": [
  {
   "cell_type": "code",
   "execution_count": 0,
   "id": "b0a316",
   "metadata": {
    "collapsed": false
   },
   "outputs": [
   ],
   "source": [
    "# reserve 10% of the data for our own testing after the fact\n",
    "#X_train, X_test, y_train, y_test = train_test_split(input_data_min_max, label, test_size=0.1, stratify=label, random_state=1);"
   ]
  },
  {
   "cell_type": "code",
   "execution_count": 0,
   "id": "a7a556",
   "metadata": {
    "collapsed": false
   },
   "outputs": [
   ],
   "source": [
    "X = pd.DataFrame(input_data_min_max).iloc[:,[3,4,5,6,7,9,10,11,12,13]]\n",
    "y = pd.DataFrame(label).iloc[:,:]\n",
    "scaler = StandardScaler()\n",
    "Dataset_featured = scaler.fit_transform(X)\n",
    "print(Dataset_featured)\n",
    "print(y)\n",
    "from sklearn.model_selection import train_test_split\n",
    "X_train, X_test, y_train, y_test= train_test_split(Dataset_featured, y, test_size = 0.4, random_state =3)\n",
    "# Printing shapes of training and testing sets\n",
    "'''\n",
    "print(\"Training set - Features shape:\", X_train.shape)\n",
    "print(\"Training set - Labels shape:\", y_train.shape)\n",
    "print(\"Testing set - Features shape:\", X_test.shape)\n",
    "print(\"Testing set - Labels shape:\", y_test.shape)\n",
    "\n",
    "# Optionally, you can print the actual data if needed\n",
    "print(\"Training set - Features:\")\n",
    "print(X_train)\n",
    "print(\"Training set - Labels:\")\n",
    "print(y_train)\n",
    "print(\"Testing set - Features:\")\n",
    "print(X_test)\n",
    "print(\"Testing set - Labels:\")\n",
    "print(y_test)\n",
    "'''"
   ]
  },
  {
   "cell_type": "code",
   "execution_count": 0,
   "id": "16e957",
   "metadata": {
    "collapsed": false
   },
   "outputs": [
   ],
   "source": [
    "'''XA = dataset.iloc[:,[2,3,4,5,6,7,8,9,10,11,12,13]]\n",
    "XB= dataset.iloc[:,[2,3,6,7,8,9,12,13]]\n",
    "scaler = StandardScaler()\n",
    "Dataset_featuredA = scaler.fit_transform(XA)\n",
    "Dataset_featuredB = scaler.fit_transform(XB)\n",
    "X_trainA, X_testA, y_trainA, y_testA= train_test_split(Dataset_featuredA, y, test_size = 0.4, random_state =3)\n",
    "X_trainB, X_testB, y_trainB, y_testB= train_test_split(Dataset_featuredB, y, test_size = 0.4, random_state =3)'''\n",
    "\n",
    "U = 1\n",
    "num=[0]*100\n",
    "accuracyA=[0]*100\n",
    "#accuracyB=[0]*100\n",
    "#accuracyC=[0]*100\n",
    "while U != 100:  # Added colon to the while loop\n",
    "    clfA = svm.SVC(kernel='linear', C=U, gamma='auto')   #Corrected kernel indexing\n",
    "    #clfB = svm.SVC(kernel='linear', C=U, gamma='auto')\n",
    "    #clfC = svm.SVC(kernel='linear', C=U, gamma='auto')\n",
    "    clfA.fit(X_train, y_train)  # Assuming X_train and y_train are defined\n",
    "    #clfB.fit(X_trainA, y_trainA)\n",
    "    #clfC.fit(X_trainB, y_trainB)\n",
    "    y_pred = clfA.predict(X_test)\n",
    "    #y_predA = clfB.predict(X_testA)\n",
    "    #y_predB = clfC.predict(X_testB)\n",
    "    accuracy = accuracy_score(y_test, y_pred)\n",
    "    #accuracy1 = accuracy_score(y_testA, y_predA)\n",
    "    #accuracy2 = accuracy_score(y_testB, y_predB)\n",
    "    accuracyA[U]=accuracy\n",
    "    #accuracyB[U]=accuracy1\n",
    "    #accuracyC[U]=accuracy2\n",
    "    num[U]=U\n",
    "    print(  f\"{U}, Accuracy: {accuracy}\")\n",
    "    U += 1# Increment U to progress through the kernels\n",
    "    '''\n",
    "plt.plot(num,accuracyA,label=\"x and y\")\n",
    "plt.plot(num,accuracyB,label=\"all\" )\n",
    "plt.plot(num,accuracyC,label=\"BarID\" )\n",
    "# naming the x axis\n",
    "plt.xlabel('U')\n",
    "# naming the y axis\n",
    "plt.ylabel('Accuracy')\n",
    " \n",
    "# giving a title to my graph\n",
    "plt.title('Affect of U on accuracy gamma=auto')\n",
    " \n",
    "plt.legend()'''\n",
    "\n",
    "\n",
    "\n",
    "    \n",
    "'''print(y_pred)\n",
    "print(y_test.values)'''\n"
   ]
  },
  {
   "cell_type": "code",
   "execution_count": 0,
   "id": "a32882",
   "metadata": {
    "collapsed": false
   },
   "outputs": [
   ],
   "source": [
    "'''U = 1\n",
    "num = [0] * 100\n",
    "accuracy1 = [0] * 100\n",
    "accuracy2 = [0] * 100\n",
    "accuracy3 = [0] * 100\n",
    "while U != 100:  # Added colon to the while loop\n",
    "    clf = svm.SVC(kernel='linear', C=U,gamma='auto')  # Corrected kernel indexing\n",
    "    clf1 = svm.SVC(kernel='linear', C=U, gamma='scale')\n",
    "    clf2 = svm.SVC(kernel='linear', C=U, gamma=U)\n",
    "    clf.fit(X_train, y_train)  # Assuming X_train and y_train are defined\n",
    "    clf1.fit(X_train, y_train)\n",
    "    clf2.fit(X_train, y_train)\n",
    "    y_pred = clf.predict(X_test)\n",
    "    y_pred1 = clf1.predict(X_test)\n",
    "    y_pred2 = clf2.predict(X_test)\n",
    "    accuracy = accuracy_score(y_test, y_pred)\n",
    "    accuracya = accuracy_score(y_test, y_pred1)\n",
    "    accuracyb = accuracy_score(y_test, y_pred2)\n",
    "    accuracy1[U] = accuracy\n",
    "    accuracy2[U] = accuracya\n",
    "    accuracy3[U] = accuracyb\n",
    "    num[U] = U\n",
    "    print(  f\"{U}, Accuracy: {accuracy}\")\n",
    "    print(  f\"{U}, Accuracy: {accuracya}\")\n",
    "    print(  f\"{U}, Accuracy: {accuracyb}\")\n",
    "    U += 1  # Increment U to progress through the kernels\n",
    "plt.plot(num, accuracy1, label=\"gamma=auto\")\n",
    "plt.plot(num, accuracy2, label=\"gamma= Scale\")\n",
    "plt.plot(num, accuracy3, label=\"Gamma=C\")\n",
    "\n",
    "# naming the x axis\n",
    "plt.xlabel('U')\n",
    "# naming the y axis\n",
    "plt.ylabel('Accuracy')\n",
    "\n",
    "# giving a title to my graph\n",
    "plt.title('Affect of gamma on accuracy')\n",
    "\n",
    "plt.legend()'''\n"
   ]
  },
  {
   "cell_type": "code",
   "execution_count": 0,
   "id": "36ac30",
   "metadata": {
    "collapsed": false
   },
   "outputs": [
   ],
   "source": [
    "#clf = svm.SVC(kernel='linear', C=19)  # Corrected kernel indexing\n",
    "#clf.fit(X_train, y_train)  # Assuming X_train and y_train are defined"
   ]
  },
  {
   "cell_type": "code",
   "execution_count": 0,
   "id": "f14457",
   "metadata": {
    "collapsed": false
   },
   "outputs": [
   ],
   "source": [
    " '''Input values\n",
    "t0 = float(input(\"Enter t0: \"))\n",
    "x0 = float(input(\"Enter x0: \"))\n",
    "y0 = float(input(\"Enter y0: \"))\n",
    "z0 = float(input(\"Enter z0: \"))\n",
    "q0 = float(input(\"Enter q0: \"))\n",
    "t1 = float(input(\"Enter t1: \"))\n",
    "x1 = float(input(\"Enter x1: \"))\n",
    "y1 = float(input(\"Enter y1: \"))\n",
    "z1 = float(input(\"Enter z1: \"))\n",
    "q1 = float(input(\"Enter q1: \"))\n",
    "\n",
    "# Create an array with the inputs\n",
    "inputs = [[t0, x0, y0, z0, q0, t1, x1, y1, z1, q1]]\n",
    "\n",
    "# Initialize a scaler and scale the inputs\n",
    "inputs_scaled = scaler.fit_transform(inputs)\n",
    "\n",
    "# Initialize the classifier\n",
    "clf = SVC()\n",
    "\n",
    "# Make prediction\n",
    "y_pred = clf.predict(inputs_scaled)\n",
    "print(\"Predicted class:\", y_pred)\n",
    "accuracy = accuracy_score(y_test, y_pred)\n",
    "print(\"Accuracy:\", accuracy)"
   ]
  },
  {
   "cell_type": "code",
   "execution_count": 3,
   "id": "865577",
   "metadata": {
    "collapsed": false
   },
   "outputs": [
   ],
   "source": [
    "import numpy as np\n",
    "import matplotlib.pyplot as plt \n",
    "from sklearn import svm\n",
    "import pandas as pd\n",
    "from sklearn.preprocessing import StandardScaler\n",
    "from sklearn.model_selection import train_test_split\n",
    "from sklearn.metrics import f1_score, accuracy_score, matthews_corrcoef, balanced_accuracy_score\n",
    "import time"
   ]
  },
  {
   "cell_type": "code",
   "execution_count": 4,
   "id": "7f4633",
   "metadata": {
    "collapsed": false
   },
   "outputs": [
    {
     "name": "stdout",
     "output_type": "stream",
     "text": [
      "Welcome to JupyROOT 6.30/06\n"
     ]
    }
   ],
   "source": [
    "# load ROOT\n",
    "import ROOT"
   ]
  },
  {
   "cell_type": "code",
   "execution_count": 5,
   "id": "f3532e",
   "metadata": {
    "collapsed": false
   },
   "outputs": [
    {
     "data": {
      "text/plain": [
       "0"
      ]
     },
     "execution_count": 5,
     "metadata": {
     },
     "output_type": "execute_result"
    }
   ],
   "source": [
    "# load TNeutron class\n",
    "ROOT.gSystem.Load('/home/user/data/ML/lib/v6_30/TNeutron_cc.so')"
   ]
  },
  {
   "cell_type": "code",
   "execution_count": 6,
   "id": "b0f7c6",
   "metadata": {
    "collapsed": false
   },
   "outputs": [
   ],
   "source": [
    "# set the path to our simulation file\n",
    "#datapath = \"/home/user/data/ML/MLP_mult2/\"\n",
    "#datapath = \"/home/user/data/ML/e15118/\"\n",
    "datapath = \"/home/user/data/ML/stmona/\""
   ]
  },
  {
   "cell_type": "code",
   "execution_count": 7,
   "id": "0df372",
   "metadata": {
    "collapsed": false
   },
   "outputs": [
   ],
   "source": [
    "# open the ROOT file and load the TTree that it contains\n",
    "#rootfile = ROOT.TFile(datapath + \"delta18_O262plus_2nThermal2.root\",\"READ\")\n",
    "# try this one for training\n",
    "rootfile = ROOT.TFile(datapath + \"tneutron_mult2_26O_24O+2n-uniform.root\",\"READ\")\n",
    "# try this one to test your trained model\n",
    "rootfile1 = ROOT.TFile(datapath + \"tneutron_mult2_26O_24O+2n-delta500keV.root\",\"READ\")\n",
    "tree1= rootfile1.Get(\"snt\")\n",
    "tree = rootfile.Get(\"snt\")\n",
    "#tree.Print()"
   ]
  },
  {
   "cell_type": "code",
   "execution_count": 8,
   "id": "eba443",
   "metadata": {
    "collapsed": false
   },
   "outputs": [
   ],
   "source": [
    "# copy data from the tree\n",
    "entries = tree.GetEntries();\n",
    "hit_data = np.zeros((entries, 10));\n",
    "label = np.empty(entries);\n",
    "label.fill(9);\n",
    "for i in range(entries):\n",
    "  # get the tree index for the next entry on our list\n",
    "  # and load this entry from the TTree\n",
    "  tree.GetEntry(i)\n",
    "  # transfer the data for this entry to our numpy array\n",
    "  # x0\n",
    "  hit_data[i][0] = tree.g.x[0]\n",
    "  # y0\n",
    "  hit_data[i][1] = tree.g.y[0]\n",
    "  # z0\n",
    "  hit_data[i][2] = tree.g.z[0]\n",
    "  # t0\n",
    "  hit_data[i][3] = tree.g.t[0]\n",
    "  # q0\n",
    "  hit_data[i][4] = tree.g.q[0]\n",
    "  # x1\n",
    "  hit_data[i][5] = tree.g.x[1]\n",
    "  # y1\n",
    "  hit_data[i][6] = tree.g.y[1]\n",
    "  # z1\n",
    "  hit_data[i][7] = tree.g.z[1]\n",
    "  # t1\n",
    "  hit_data[i][8] = tree.g.t[1]\n",
    "  # q1\n",
    "  hit_data[i][9] = tree.g.q[1]\n",
    "  # label\n",
    "  label[i]= tree.signal\n",
    "  #label[i]= tree.target"
   ]
  },
  {
   "cell_type": "code",
   "execution_count": 9,
   "id": "9ba96f",
   "metadata": {
    "collapsed": false
   },
   "outputs": [
   ],
   "source": [
    "# create calculated data matrix\n",
    "entries = tree.GetEntries();\n",
    "hit_calc= np.zeros((entries, 7));\n",
    "for i in range(entries):\n",
    "  # calculated quantities\n",
    "  tree.GetEntry(i);\n",
    "  hit_calc[i][0] = tree.g.GetVelocity(0);\n",
    "  hit_calc[i][1] = tree.g.GetVelocity(1);\n",
    "  hit_calc[i][2] = tree.g.HitSeparation(0,1);\n",
    "  hit_calc[i][3] = tree.g.HitVdiff(0,1);\n",
    "  hit_calc[i][4] = tree.g.HitOpeningAngle(0,1);\n",
    "  hit_calc[i][5] = tree.g.HitNSI(0,1);\n",
    "  hit_calc[i][6] = tree.g.HitScatteringAngle(0,1);"
   ]
  },
  {
   "cell_type": "code",
   "execution_count": 10,
   "id": "3c0ed4",
   "metadata": {
    "collapsed": false
   },
   "outputs": [
   ],
   "source": [
    "# copy data from the tree\n",
    "entries1 = tree1.GetEntries();\n",
    "hit_data1 = np.zeros((entries1, 10));\n",
    "label1 = np.empty(entries1);\n",
    "label1.fill(9);\n",
    "for o in range(entries1):\n",
    "  # get the tree index for the next entry on our list\n",
    "  # and load this entry from the TTree\n",
    "  tree1.GetEntry(o)\n",
    "  # transfer the data for this entry to our numpy array\n",
    "  # x0\n",
    "  hit_data1[o][0] = tree1.g.x[0]\n",
    "  # y0\n",
    "  hit_data1[o][1] = tree1.g.y[0]\n",
    "  # z0\n",
    "  hit_data1[o][2] = tree1.g.z[0]\n",
    "  # t0\n",
    "  hit_data1[o][3] = tree1.g.t[0]\n",
    "  # q0\n",
    "  hit_data1[o][4] = tree1.g.q[0]\n",
    "  # x1\n",
    "  hit_data1[o][5] = tree1.g.x[1]\n",
    "  # y1\n",
    "  hit_data1[o][6] = tree1.g.y[1]\n",
    "  # z1\n",
    "  hit_data1[o][7] = tree1.g.z[1]\n",
    "  # t1\n",
    "  hit_data1[o][8] = tree1.g.t[1]\n",
    "  # q1\n",
    "  hit_data1[o][9] = tree1.g.q[1]\n",
    "  # label\n",
    "  label1[o]= tree1.signal"
   ]
  },
  {
   "cell_type": "code",
   "execution_count": 11,
   "id": "c74e42",
   "metadata": {
    "collapsed": false
   },
   "outputs": [
   ],
   "source": [
    "# create calculated data matrix\n",
    "entries1 = tree1.GetEntries();\n",
    "hit_calc1= np.zeros((entries1, 7));\n",
    "for o in range(entries1):\n",
    "  # calculated quantities\n",
    "  tree1.GetEntry(o);\n",
    "  hit_calc1[o][0] = tree1.g.GetVelocity(0);\n",
    "  hit_calc1[o][1] = tree1.g.GetVelocity(1);\n",
    "  hit_calc1[o][2] = tree1.g.HitSeparation(0,1);\n",
    "  hit_calc1[o][3] = tree1.g.HitVdiff(0,1);\n",
    "  hit_calc1[o][4] = tree1.g.HitOpeningAngle(0,1);\n",
    "  hit_calc1[o][5] = tree1.g.HitNSI(0,1);\n",
    "  hit_calc1[o][6] = tree1.g.HitScatteringAngle(0,1);"
   ]
  },
  {
   "cell_type": "code",
   "execution_count": 12,
   "id": "068767",
   "metadata": {
    "collapsed": false
   },
   "outputs": [
   ],
   "source": [
    "# Concatenate measured and calculated quantities\n",
    "input_data_min_max1 = np.concatenate((hit_data1, hit_calc1), axis=1)\n",
    "X1 = input_data_min_max1\n",
    "y1 = label1\n",
    "# Scale the features using Standered\n",
    "scaler = StandardScaler()\n",
    "Dataset_featured1 = scaler.fit_transform(X1)"
   ]
  },
  {
   "cell_type": "code",
   "execution_count": 13,
   "id": "93aee4",
   "metadata": {
    "collapsed": false
   },
   "outputs": [
   ],
   "source": [
    "# Concatenate measured and calculated quantities\n",
    "input_data_min_max = np.concatenate((hit_data, hit_calc), axis=1)\n",
    "X = input_data_min_max\n",
    "y = label\n",
    "\n",
    "# Scale the features using Standered\n",
    "Dataset_featured = scaler.fit_transform(X)"
   ]
  },
  {
   "cell_type": "code",
   "execution_count": 14,
   "id": "ba7796",
   "metadata": {
    "collapsed": false
   },
   "outputs": [
    {
     "name": "stdout",
     "output_type": "stream",
     "text": [
      "224294\n",
      "224294\n"
     ]
    }
   ],
   "source": [
    "X_train1, X_test1, y_train1, y_test1 = train_test_split(Dataset_featured,y,test_size=0.01, random_state=1)\n",
    "clf = svm.SVC(kernel='linear', C=1, gamma='auto')\n",
    "print(len(X_train1))\n",
    "print(len(y_train1))"
   ]
  },
  {
   "cell_type": "code",
   "execution_count": 15,
   "id": "3d8930",
   "metadata": {
    "collapsed": false
   },
   "outputs": [
    {
     "name": "stdout",
     "output_type": "stream",
     "text": [
      "{0.0, 1.0}\n",
      "{0.0, 1.0}\n",
      "[1. 0.]\n",
      "[1. 0.]\n"
     ]
    },
    {
     "name": "stdout",
     "output_type": "stream",
     "text": [
      "Accuracy: 0.7278290409952716\n",
      "It took 0.17425155639648438 seconds! 100\n"
     ]
    },
    {
     "name": "stdout",
     "output_type": "stream",
     "text": [
      "{0.0, 1.0}\n",
      "{0.0, 1.0}\n",
      "[1. 0.]\n",
      "[1. 0.]\n"
     ]
    },
    {
     "name": "stdout",
     "output_type": "stream",
     "text": [
      "Accuracy: 0.7122526741036588\n",
      "It took 0.9841451644897461 seconds! 600\n"
     ]
    },
    {
     "name": "stdout",
     "output_type": "stream",
     "text": [
      "{0.0, 1.0}\n",
      "{0.0, 1.0}\n",
      "[1. 0.]\n",
      "[1. 0.]\n"
     ]
    },
    {
     "name": "stdout",
     "output_type": "stream",
     "text": [
      "Accuracy: 0.7249139237019694\n",
      "It took 1.3523457050323486 seconds! 1100\n"
     ]
    },
    {
     "name": "stdout",
     "output_type": "stream",
     "text": [
      "{0.0, 1.0}\n",
      "{0.0, 1.0}\n",
      "[1. 0.]\n",
      "[1. 0.]\n"
     ]
    },
    {
     "name": "stdout",
     "output_type": "stream",
     "text": [
      "Accuracy: 0.7293210301611348\n",
      "It took 2.044463872909546 seconds! 1600\n"
     ]
    },
    {
     "name": "stdout",
     "output_type": "stream",
     "text": [
      "{0.0, 1.0}\n",
      "{0.0, 1.0}\n",
      "[1. 0.]\n",
      "[1. 0.]\n"
     ]
    },
    {
     "name": "stdout",
     "output_type": "stream",
     "text": [
      "Accuracy: 0.7201808749942615\n",
      "It took 2.891176223754883 seconds! 2100\n"
     ]
    },
    {
     "name": "stdout",
     "output_type": "stream",
     "text": [
      "{0.0, 1.0}\n",
      "{0.0, 1.0}\n",
      "[1. 0.]\n",
      "[1. 0.]\n"
     ]
    },
    {
     "name": "stdout",
     "output_type": "stream",
     "text": [
      "Accuracy: 0.7158059036863609\n",
      "It took 3.3063557147979736 seconds! 2600\n"
     ]
    },
    {
     "name": "stdout",
     "output_type": "stream",
     "text": [
      "{0.0, 1.0}\n",
      "{0.0, 1.0}\n",
      "[1. 0.]\n",
      "[1. 0.]\n"
     ]
    },
    {
     "name": "stdout",
     "output_type": "stream",
     "text": [
      "Accuracy: 0.7111922141119221\n",
      "It took 4.041463375091553 seconds! 3100\n"
     ]
    },
    {
     "name": "stdout",
     "output_type": "stream",
     "text": [
      "{0.0, 1.0}\n",
      "{0.0, 1.0}\n",
      "[1. 0.]\n",
      "[1. 0.]\n"
     ]
    },
    {
     "name": "stdout",
     "output_type": "stream",
     "text": [
      "Accuracy: 0.7101730707432401\n",
      "It took 4.517899990081787 seconds! 3600\n"
     ]
    },
    {
     "name": "stdout",
     "output_type": "stream",
     "text": [
      "{0.0, 1.0}\n",
      "{0.0, 1.0}\n",
      "[1. 0.]\n",
      "[1. 0.]\n"
     ]
    },
    {
     "name": "stdout",
     "output_type": "stream",
     "text": [
      "Accuracy: 0.713258045264656\n",
      "It took 5.430908441543579 seconds! 4100\n"
     ]
    },
    {
     "name": "stdout",
     "output_type": "stream",
     "text": [
      "{0.0, 1.0}\n",
      "{0.0, 1.0}\n",
      "[1. 0.]\n",
      "[1. 0.]\n"
     ]
    },
    {
     "name": "stdout",
     "output_type": "stream",
     "text": [
      "Accuracy: 0.711715558003948\n",
      "It took 5.505763292312622 seconds! 4600\n"
     ]
    },
    {
     "name": "stdout",
     "output_type": "stream",
     "text": [
      "{0.0, 1.0}\n",
      "{0.0, 1.0}\n",
      "[1. 0.]\n",
      "[1. 0.]\n"
     ]
    },
    {
     "name": "stdout",
     "output_type": "stream",
     "text": [
      "Accuracy: 0.7104852407840977\n",
      "It took 6.5833306312561035 seconds! 5100\n"
     ]
    },
    {
     "name": "stdout",
     "output_type": "stream",
     "text": [
      "{0.0, 1.0}\n",
      "{0.0, 1.0}\n",
      "[1. 0.]\n",
      "[1. 0.]\n"
     ]
    },
    {
     "name": "stdout",
     "output_type": "stream",
     "text": [
      "Accuracy: 0.7124087591240876\n",
      "It took 6.920470476150513 seconds! 5600\n"
     ]
    },
    {
     "name": "stdout",
     "output_type": "stream",
     "text": [
      "{0.0, 1.0}\n",
      "{0.0, 1.0}\n",
      "[1. 0.]\n",
      "[1. 0.]\n"
     ]
    },
    {
     "name": "stdout",
     "output_type": "stream",
     "text": [
      "Accuracy: 0.7135288986824588\n",
      "It took 8.212847709655762 seconds! 6100\n"
     ]
    },
    {
     "name": "stdout",
     "output_type": "stream",
     "text": [
      "{0.0, 1.0}\n",
      "{0.0, 1.0}\n",
      "[1. 0.]\n",
      "[1. 0.]\n"
     ]
    },
    {
     "name": "stdout",
     "output_type": "stream",
     "text": [
      "Accuracy: 0.7125648441445164\n",
      "It took 8.323199272155762 seconds! 6600\n"
     ]
    },
    {
     "name": "stdout",
     "output_type": "stream",
     "text": [
      "{0.0, 1.0}\n",
      "{0.0, 1.0}\n",
      "[1. 0.]\n",
      "[1. 0.]\n"
     ]
    },
    {
     "name": "stdout",
     "output_type": "stream",
     "text": [
      "Accuracy: 0.7149933434329523\n",
      "It took 9.867554187774658 seconds! 7100\n"
     ]
    },
    {
     "name": "stdout",
     "output_type": "stream",
     "text": [
      "{0.0, 1.0}\n",
      "{0.0, 1.0}\n",
      "[1. 0.]\n",
      "[1. 0.]\n"
     ]
    },
    {
     "name": "stdout",
     "output_type": "stream",
     "text": [
      "Accuracy: 0.7168480007345177\n",
      "It took 10.623400449752808 seconds! 7600\n"
     ]
    },
    {
     "name": "stdout",
     "output_type": "stream",
     "text": [
      "{0.0, 1.0}\n",
      "{0.0, 1.0}\n",
      "[1. 0.]\n",
      "[1. 0.]\n"
     ]
    },
    {
     "name": "stdout",
     "output_type": "stream",
     "text": [
      "Accuracy: 0.7154891429096084\n",
      "It took 11.268510103225708 seconds! 8100\n"
     ]
    },
    {
     "name": "stdout",
     "output_type": "stream",
     "text": [
      "{0.0, 1.0}\n",
      "{0.0, 1.0}\n",
      "[1. 0.]\n",
      "[1. 0.]\n"
     ]
    },
    {
     "name": "stdout",
     "output_type": "stream",
     "text": [
      "Accuracy: 0.7148556213561034\n",
      "It took 12.527112483978271 seconds! 8600\n"
     ]
    },
    {
     "name": "stdout",
     "output_type": "stream",
     "text": [
      "{0.0, 1.0}\n",
      "{0.0, 1.0}\n",
      "[1. 0.]\n",
      "[1. 0.]\n"
     ]
    },
    {
     "name": "stdout",
     "output_type": "stream",
     "text": [
      "Accuracy: 0.7130239177340127\n",
      "It took 13.11669111251831 seconds! 9100\n"
     ]
    },
    {
     "name": "stdout",
     "output_type": "stream",
     "text": [
      "{0.0, 1.0}\n",
      "{0.0, 1.0}\n",
      "[1. 0.]\n",
      "[1. 0.]\n"
     ]
    },
    {
     "name": "stdout",
     "output_type": "stream",
     "text": [
      "Accuracy: 0.7137997521002617\n",
      "It took 14.300101280212402 seconds! 9600\n"
     ]
    },
    {
     "name": "stdout",
     "output_type": "stream",
     "text": [
      "{0.0, 1.0}\n",
      "{0.0, 1.0}\n",
      "[1. 0.]\n",
      "[1. 0.]\n"
     ]
    },
    {
     "name": "stdout",
     "output_type": "stream",
     "text": [
      "Accuracy: 0.7151127025662214\n",
      "It took 16.516921043395996 seconds! 10100\n"
     ]
    },
    {
     "name": "stdout",
     "output_type": "stream",
     "text": [
      "{0.0, 1.0}\n",
      "{0.0, 1.0}\n",
      "[1. 0.]\n",
      "[1. 0.]\n"
     ]
    },
    {
     "name": "stdout",
     "output_type": "stream",
     "text": [
      "Accuracy: 0.7149382546022127\n",
      "It took 15.43840479850769 seconds! 10600\n"
     ]
    },
    {
     "name": "stdout",
     "output_type": "stream",
     "text": [
      "{0.0, 1.0}\n",
      "{0.0, 1.0}\n",
      "[1. 0.]\n",
      "[1. 0.]\n"
     ]
    },
    {
     "name": "stdout",
     "output_type": "stream",
     "text": [
      "Accuracy: 0.7159114906119451\n",
      "It took 17.0445773601532 seconds! 11100\n"
     ]
    },
    {
     "name": "stdout",
     "output_type": "stream",
     "text": [
      "{0.0, 1.0}\n",
      "{0.0, 1.0}\n",
      "[1. 0.]\n",
      "[1. 0.]\n"
     ]
    },
    {
     "name": "stdout",
     "output_type": "stream",
     "text": [
      "Accuracy: 0.7156314557223523\n",
      "It took 17.013513326644897 seconds! 11600\n"
     ]
    },
    {
     "name": "stdout",
     "output_type": "stream",
     "text": [
      "{0.0, 1.0}\n",
      "{0.0, 1.0}\n",
      "[1. 0.]\n",
      "[1. 0.]\n"
     ]
    },
    {
     "name": "stdout",
     "output_type": "stream",
     "text": [
      "Accuracy: 0.7169306339806271\n",
      "It took 18.047399282455444 seconds! 12100\n"
     ]
    },
    {
     "name": "stdout",
     "output_type": "stream",
     "text": [
      "{0.0, 1.0}\n",
      "{0.0, 1.0}\n",
      "[1. 0.]\n",
      "[1. 0.]\n"
     ]
    },
    {
     "name": "stdout",
     "output_type": "stream",
     "text": [
      "Accuracy: 0.718082908690263\n",
      "It took 18.17790985107422 seconds! 12600\n"
     ]
    },
    {
     "name": "stdout",
     "output_type": "stream",
     "text": [
      "{0.0, 1.0}\n",
      "{0.0, 1.0}\n",
      "[1. 0.]\n",
      "[1. 0.]\n"
     ]
    },
    {
     "name": "stdout",
     "output_type": "stream",
     "text": [
      "Accuracy: 0.7178809163108847\n",
      "It took 19.081164598464966 seconds! 13100\n"
     ]
    },
    {
     "name": "stdout",
     "output_type": "stream",
     "text": [
      "{0.0, 1.0}\n",
      "{0.0, 1.0}\n",
      "[1. 0.]\n",
      "[1. 0.]\n"
     ]
    },
    {
     "name": "stdout",
     "output_type": "stream",
     "text": [
      "Accuracy: 0.719363724004958\n",
      "It took 20.819875717163086 seconds! 13600\n"
     ]
    },
    {
     "name": "stdout",
     "output_type": "stream",
     "text": [
      "{0.0, 1.0}\n",
      "{0.0, 1.0}\n",
      "[1. 0.]\n",
      "[1. 0.]\n"
     ]
    },
    {
     "name": "stdout",
     "output_type": "stream",
     "text": [
      "Accuracy: 0.7188357893770372\n",
      "It took 20.801849842071533 seconds! 14100\n"
     ]
    },
    {
     "name": "stdout",
     "output_type": "stream",
     "text": [
      "{0.0, 1.0}\n",
      "{0.0, 1.0}\n",
      "[1. 0.]\n",
      "[1. 0.]\n"
     ]
    },
    {
     "name": "stdout",
     "output_type": "stream",
     "text": [
      "Accuracy: 0.7202038286737364\n",
      "It took 21.929589986801147 seconds! 14600\n"
     ]
    },
    {
     "name": "stdout",
     "output_type": "stream",
     "text": [
      "{0.0, 1.0}\n",
      "{0.0, 1.0}\n",
      "[1. 0.]\n",
      "[1. 0.]\n"
     ]
    },
    {
     "name": "stdout",
     "output_type": "stream",
     "text": [
      "Accuracy: 0.7212413349859983\n",
      "It took 23.565045595169067 seconds! 15100\n"
     ]
    },
    {
     "name": "stdout",
     "output_type": "stream",
     "text": [
      "{0.0, 1.0}\n",
      "{0.0, 1.0}\n",
      "[1. 0.]\n",
      "[1. 0.]\n"
     ]
    },
    {
     "name": "stdout",
     "output_type": "stream",
     "text": [
      "Accuracy: 0.720130376899417\n",
      "It took 24.175082206726074 seconds! 15600\n"
     ]
    },
    {
     "name": "stdout",
     "output_type": "stream",
     "text": [
      "{0.0, 1.0}\n",
      "{0.0, 1.0}\n",
      "[1. 0.]\n",
      "[1. 0.]\n"
     ]
    },
    {
     "name": "stdout",
     "output_type": "stream",
     "text": [
      "Accuracy: 0.7207225818298674\n",
      "It took 23.836380004882812 seconds! 16100\n"
     ]
    },
    {
     "name": "stdout",
     "output_type": "stream",
     "text": [
      "{0.0, 1.0}\n",
      "{0.0, 1.0}\n",
      "[1. 0.]\n",
      "[1. 0.]\n"
     ]
    },
    {
     "name": "stdout",
     "output_type": "stream",
     "text": [
      "Accuracy: 0.719616214479181\n",
      "It took 25.172797679901123 seconds! 16600\n"
     ]
    },
    {
     "name": "stdout",
     "output_type": "stream",
     "text": [
      "{0.0, 1.0}\n",
      "{0.0, 1.0}\n",
      "[1. 0.]\n",
      "[1. 0.]\n"
     ]
    },
    {
     "name": "stdout",
     "output_type": "stream",
     "text": [
      "Accuracy: 0.7197952531790847\n",
      "It took 25.268781423568726 seconds! 17100\n"
     ]
    },
    {
     "name": "stdout",
     "output_type": "stream",
     "text": [
      "{0.0, 1.0}\n",
      "{0.0, 1.0}\n",
      "[1. 0.]\n",
      "[1. 0.]\n"
     ]
    },
    {
     "name": "stdout",
     "output_type": "stream",
     "text": [
      "Accuracy: 0.7196942569893954\n",
      "It took 27.02423357963562 seconds! 17600\n"
     ]
    },
    {
     "name": "stdout",
     "output_type": "stream",
     "text": [
      "{0.0, 1.0}\n",
      "{0.0, 1.0}\n",
      "[1. 0.]\n",
      "[1. 0.]\n"
     ]
    },
    {
     "name": "stdout",
     "output_type": "stream",
     "text": [
      "Accuracy: 0.7194555387228573\n",
      "It took 27.293676376342773 seconds! 18100\n"
     ]
    },
    {
     "name": "stdout",
     "output_type": "stream",
     "text": [
      "{0.0, 1.0}\n",
      "{0.0, 1.0}\n",
      "[1. 0.]\n",
      "[1. 0.]\n"
     ]
    },
    {
     "name": "stdout",
     "output_type": "stream",
     "text": [
      "Accuracy: 0.7187715190745076\n",
      "It took 29.11374568939209 seconds! 18600\n"
     ]
    },
    {
     "name": "stdout",
     "output_type": "stream",
     "text": [
      "{0.0, 1.0}\n",
      "{0.0, 1.0}\n",
      "[1. 0.]\n",
      "[1. 0.]\n"
     ]
    },
    {
     "name": "stdout",
     "output_type": "stream",
     "text": [
      "Accuracy: 0.7190836891153652\n",
      "It took 29.111752033233643 seconds! 19100\n"
     ]
    },
    {
     "name": "stdout",
     "output_type": "stream",
     "text": [
      "{0.0, 1.0}\n",
      "{0.0, 1.0}\n",
      "[1. 0.]\n",
      "[1. 0.]\n"
     ]
    },
    {
     "name": "stdout",
     "output_type": "stream",
     "text": [
      "Accuracy: 0.7182940825414313\n",
      "It took 31.765523195266724 seconds! 19600\n",
      "[100, 600, 1100, 1600, 2100, 2600, 3100, 3600, 4100, 4600, 5100, 5600, 6100, 6600, 7100, 7600, 8100, 8600, 9100, 9600, 10100, 10600, 11100, 11600, 12100, 12600, 13100, 13600, 14100, 14600, 15100, 15600, 16100, 16600, 17100, 17600, 18100, 18600, 19100, 19600]\n",
      "[0.17425155639648438, 0.9841451644897461, 1.3523457050323486, 2.044463872909546, 2.891176223754883, 3.3063557147979736, 4.041463375091553, 4.517899990081787, 5.430908441543579, 5.505763292312622, 6.5833306312561035, 6.920470476150513, 8.212847709655762, 8.323199272155762, 9.867554187774658, 10.623400449752808, 11.268510103225708, 12.527112483978271, 13.11669111251831, 14.300101280212402, 16.516921043395996, 15.43840479850769, 17.0445773601532, 17.013513326644897, 18.047399282455444, 18.17790985107422, 19.081164598464966, 20.819875717163086, 20.801849842071533, 21.929589986801147, 23.565045595169067, 24.175082206726074, 23.836380004882812, 25.172797679901123, 25.268781423568726, 27.02423357963562, 27.293676376342773, 29.11374568939209, 29.111752033233643, 31.765523195266724]\n",
      "Accuracy: [0.7278290409952716, 0.7122526741036588, 0.7249139237019694, 0.7293210301611348, 0.7201808749942615, 0.7158059036863609, 0.7111922141119221, 0.7101730707432401, 0.713258045264656, 0.711715558003948, 0.7104852407840977, 0.7124087591240876, 0.7135288986824588, 0.7125648441445164, 0.7149933434329523, 0.7168480007345177, 0.7154891429096084, 0.7148556213561034, 0.7130239177340127, 0.7137997521002617, 0.7151127025662214, 0.7149382546022127, 0.7159114906119451, 0.7156314557223523, 0.7169306339806271, 0.718082908690263, 0.7178809163108847, 0.719363724004958, 0.7188357893770372, 0.7202038286737364, 0.7212413349859983, 0.720130376899417, 0.7207225818298674, 0.719616214479181, 0.7197952531790847, 0.7196942569893954, 0.7194555387228573, 0.7187715190745076, 0.7190836891153652, 0.7182940825414313]\n",
      "F1 Accuracy: [0.7278290409952716, 0.7122526741036588, 0.7249139237019694, 0.7293210301611348, 0.7201808749942615, 0.7158059036863609, 0.7111922141119221, 0.7101730707432401, 0.713258045264656, 0.711715558003948, 0.7104852407840977, 0.7124087591240876, 0.7135288986824588, 0.7125648441445164, 0.7149933434329523, 0.7168480007345177, 0.7154891429096084, 0.7148556213561034, 0.7130239177340127, 0.7137997521002617, 0.7151127025662214, 0.7149382546022127, 0.7159114906119451, 0.7156314557223523, 0.7169306339806271, 0.718082908690263, 0.7178809163108847, 0.719363724004958, 0.7188357893770372, 0.7202038286737364, 0.7212413349859983, 0.720130376899417, 0.7207225818298674, 0.719616214479181, 0.7197952531790847, 0.7196942569893954, 0.7194555387228573, 0.7187715190745076, 0.7190836891153652, 0.7182940825414313]\n",
      "bas Accuracy: [0.7645428564223626, 0.7515148253228964, 0.7621257709813218, 0.7655244414183675, 0.7578589594952612, 0.7542096104881444, 0.7502384915100688, 0.7496051598787732, 0.7517177959321507, 0.7508708063565575, 0.7500178204916153, 0.751553692868441, 0.7525424697569825, 0.7513597871763674, 0.7532611747652336, 0.7550165147258633, 0.7539822814218092, 0.7534522650467445, 0.7519257604036272, 0.7525264805222144, 0.7534999299345206, 0.7533114866871413, 0.753904129957994, 0.7536929402294472, 0.7549728647675684, 0.7559822527586586, 0.7557821236648401, 0.7570104493108105, 0.7564914570236518, 0.7574330154177469, 0.7583063526417506, 0.7573119814789058, 0.7575891839052806, 0.7566539768268086, 0.7567223990044227, 0.7566633628339283, 0.7563985302016675, 0.7557904315407012, 0.756107638379844, 0.7554098081333596]\n",
      "Mc Accuracy: [0.5500702497033959, 0.5297211198143311, 0.5463330812865286, 0.5509117668932363, 0.5388021597795003, 0.5331215963801706, 0.5266073988492285, 0.5262579269593817, 0.5282098047608466, 0.5281539169316334, 0.5273431171228167, 0.5295147441255609, 0.5312022360986902, 0.5282789461547576, 0.5308831412615655, 0.5342005844476381, 0.5328731313020652, 0.5320458585119068, 0.5296823886139246, 0.5304805853536698, 0.5316466481875397, 0.5312323484036034, 0.5315424996682938, 0.5312752215245798, 0.5338176100812245, 0.5355250848459111, 0.5351251940617273, 0.5370180017742483, 0.5359912349513096, 0.5369201860894807, 0.5383106347915603, 0.5365691598173077, 0.5364242100999957, 0.5349213123431693, 0.5348131072785887, 0.5347873783631769, 0.5341959627624375, 0.5331395304250549, 0.533789847115209, 0.5325881029304399]\n"
     ]
    },
    {
     "data": {
      "text/plain": [
       "<matplotlib.legend.Legend at 0x7f6aad437f70>"
      ]
     },
     "execution_count": 15,
     "metadata": {
     },
     "output_type": "execute_result"
    },
    {
     "data": {
      "image/png": "[encoded data removed]",
      "text/plain": "<Figure size 864x504 with 1 Axes>"
     },
     "metadata": {
      "image/png": {
       "height": 440,
       "width": 726
      },
      "needs_background": "light"
     }
    }
   ],
   "source": [
    "number = []\n",
    "timearray = []\n",
    "accuracy_list = []\n",
    "bas_list = []\n",
    "F1_list = []\n",
    "Mc_list = []\n",
    "\n",
    "for i in range(100, 20000, 500):\n",
    "    start = time.time()\n",
    "    selection_X1 = X_train1[0:i, :]\n",
    "    selection_Y1 = y_train1[0:i]\n",
    "\n",
    "    clf.fit(selection_X1, selection_Y1)\n",
    "    y_pred = clf.predict(Dataset_featured1)\n",
    "    end = time.time()\n",
    "    length = end - start\n",
    "    \n",
    "    print(set(y1))\n",
    "    print(set(y_pred))\n",
    "    y1_series = pd.Series(y1)\n",
    "    y_pred_series = pd.Series(y_pred)\n",
    "    print(y1_series.unique())\n",
    "    print(y_pred_series.unique())\n",
    "\n",
    "\n",
    "    accuracy = accuracy_score(y1, y_pred)\n",
    "    Mc = matthews_corrcoef(y1, y_pred)\n",
    "    F1 = f1_score(y1, y_pred, average='micro')\n",
    "    bas = balanced_accuracy_score(y1, y_pred)\n",
    "\n",
    "\n",
    "    timearray.append(length)\n",
    "    number.append(i)\n",
    "    accuracy_list.append(accuracy)\n",
    "    bas_list.append(bas)\n",
    "    F1_list.append(F1)\n",
    "    Mc_list.append(Mc)\n",
    "\n",
    "    print(\"Accuracy:\", accuracy)\n",
    "    print(\"It took\", length, \"seconds!\", i)\n",
    "\n",
    "print(number)\n",
    "print(timearray)\n",
    "print(\"Accuracy:\", accuracy_list)\n",
    "print(\"F1 Accuracy:\", F1_list)\n",
    "print(\"bas Accuracy:\", bas_list)\n",
    "print(\"Mc Accuracy:\", Mc_list)\n",
    "\n",
    "plt.plot(number, accuracy_list, label=\"accuracy\")\n",
    "plt.plot(number, F1_list, label=\"F1\")\n",
    "plt.plot(number, bas_list, label=\"bas\")\n",
    "plt.plot(number, Mc_list, label=\"Mc\")\n",
    "\n",
    "plt.xlabel('number of data points')\n",
    "plt.ylabel('accuracy')\n",
    "plt.title('Accuracy')\n",
    "plt.legend()\n",
    "        \n"
   ]
  },
  {
   "cell_type": "code",
   "execution_count": 16,
   "id": "c82dd4",
   "metadata": {
    "collapsed": false
   },
   "outputs": [
    {
     "name": "stdout",
     "output_type": "stream",
     "text": [
      "It took 0.0033731460571289062 seconds! 100\n",
      "It took 0.004786968231201172 seconds! 200\n",
      "It took 0.008681297302246094 seconds! 300\n"
     ]
    },
    {
     "name": "stdout",
     "output_type": "stream",
     "text": [
      "It took 0.007062673568725586 seconds! 400\n",
      "It took 0.008439779281616211 seconds! 500\n",
      "It took 0.01048421859741211 seconds! 600\n",
      "It took 0.014054059982299805 seconds! 700\n",
      "It took 0.018804073333740234 seconds! 800\n",
      "It took 0.024254560470581055 seconds! 900\n",
      "It took 0.02475261688232422 seconds! 1000\n",
      "It took 0.03182578086853027 seconds! 1100\n",
      "It took 0.045903682708740234 seconds! 1200\n"
     ]
    },
    {
     "name": "stdout",
     "output_type": "stream",
     "text": [
      "It took 0.04468846321105957 seconds! 1300\n",
      "It took 0.06658053398132324 seconds! 1400\n",
      "It took 0.05403900146484375 seconds! 1500\n",
      "It took 0.06163501739501953 seconds! 1600\n"
     ]
    },
    {
     "name": "stdout",
     "output_type": "stream",
     "text": [
      "It took 0.07224512100219727 seconds! 1700\n",
      "It took 0.07628226280212402 seconds! 1800\n",
      "It took 0.08245086669921875 seconds! 1900\n"
     ]
    },
    {
     "name": "stdout",
     "output_type": "stream",
     "text": [
      "It took 0.09216880798339844 seconds! 2000\n",
      "It took 0.10056209564208984 seconds! 2100\n"
     ]
    },
    {
     "name": "stdout",
     "output_type": "stream",
     "text": [
      "It took 0.10954880714416504 seconds! 2200\n",
      "It took 0.12002921104431152 seconds! 2300\n"
     ]
    },
    {
     "name": "stdout",
     "output_type": "stream",
     "text": [
      "It took 0.13387155532836914 seconds! 2400\n",
      "It took 0.1505587100982666 seconds! 2500\n"
     ]
    },
    {
     "name": "stdout",
     "output_type": "stream",
     "text": [
      "It took 0.1590278148651123 seconds! 2600\n",
      "It took 0.19299983978271484 seconds! 2700\n"
     ]
    },
    {
     "name": "stdout",
     "output_type": "stream",
     "text": [
      "It took 0.18494820594787598 seconds! 2800\n"
     ]
    },
    {
     "name": "stdout",
     "output_type": "stream",
     "text": [
      "It took 0.21211457252502441 seconds! 2900\n"
     ]
    },
    {
     "name": "stdout",
     "output_type": "stream",
     "text": [
      "It took 0.23119688034057617 seconds! 3000\n"
     ]
    },
    {
     "name": "stdout",
     "output_type": "stream",
     "text": [
      "It took 0.23290276527404785 seconds! 3100\n"
     ]
    },
    {
     "name": "stdout",
     "output_type": "stream",
     "text": [
      "It took 0.2386488914489746 seconds! 3200\n"
     ]
    },
    {
     "name": "stdout",
     "output_type": "stream",
     "text": [
      "It took 0.26292848587036133 seconds! 3300\n"
     ]
    },
    {
     "name": "stdout",
     "output_type": "stream",
     "text": [
      "It took 0.3168325424194336 seconds! 3400\n"
     ]
    },
    {
     "name": "stdout",
     "output_type": "stream",
     "text": [
      "It took 0.3188929557800293 seconds! 3500\n"
     ]
    },
    {
     "name": "stdout",
     "output_type": "stream",
     "text": [
      "It took 0.3131241798400879 seconds! 3600\n"
     ]
    },
    {
     "name": "stdout",
     "output_type": "stream",
     "text": [
      "It took 0.3514068126678467 seconds! 3700\n"
     ]
    },
    {
     "name": "stdout",
     "output_type": "stream",
     "text": [
      "It took 0.36724424362182617 seconds! 3800\n"
     ]
    },
    {
     "name": "stdout",
     "output_type": "stream",
     "text": [
      "It took 0.4437556266784668 seconds! 3900\n"
     ]
    },
    {
     "name": "stdout",
     "output_type": "stream",
     "text": [
      "It took 0.5238296985626221 seconds! 4000\n"
     ]
    },
    {
     "name": "stdout",
     "output_type": "stream",
     "text": [
      "It took 0.4486513137817383 seconds! 4100\n"
     ]
    },
    {
     "name": "stdout",
     "output_type": "stream",
     "text": [
      "It took 0.4670224189758301 seconds! 4200\n"
     ]
    },
    {
     "name": "stdout",
     "output_type": "stream",
     "text": [
      "It took 0.46873950958251953 seconds! 4300\n"
     ]
    },
    {
     "name": "stdout",
     "output_type": "stream",
     "text": [
      "It took 0.5125691890716553 seconds! 4400\n"
     ]
    },
    {
     "name": "stdout",
     "output_type": "stream",
     "text": [
      "It took 0.5598783493041992 seconds! 4500\n"
     ]
    },
    {
     "name": "stdout",
     "output_type": "stream",
     "text": [
      "It took 0.48707008361816406 seconds! 4600\n"
     ]
    },
    {
     "name": "stdout",
     "output_type": "stream",
     "text": [
      "It took 0.5794875621795654 seconds! 4700\n"
     ]
    },
    {
     "name": "stdout",
     "output_type": "stream",
     "text": [
      "It took 0.5239474773406982 seconds! 4800\n"
     ]
    },
    {
     "name": "stdout",
     "output_type": "stream",
     "text": [
      "It took 0.5597579479217529 seconds! 4900\n"
     ]
    },
    {
     "name": "stdout",
     "output_type": "stream",
     "text": [
      "It took 0.5904390811920166 seconds! 5000\n"
     ]
    },
    {
     "name": "stdout",
     "output_type": "stream",
     "text": [
      "It took 0.6168506145477295 seconds! 5100\n"
     ]
    },
    {
     "name": "stdout",
     "output_type": "stream",
     "text": [
      "It took 0.7023804187774658 seconds! 5200\n"
     ]
    },
    {
     "name": "stdout",
     "output_type": "stream",
     "text": [
      "It took 0.6612527370452881 seconds! 5300\n"
     ]
    },
    {
     "name": "stdout",
     "output_type": "stream",
     "text": [
      "It took 0.6793689727783203 seconds! 5400\n"
     ]
    },
    {
     "name": "stdout",
     "output_type": "stream",
     "text": [
      "It took 0.7168104648590088 seconds! 5500\n"
     ]
    },
    {
     "name": "stdout",
     "output_type": "stream",
     "text": [
      "It took 0.7542145252227783 seconds! 5600\n"
     ]
    },
    {
     "name": "stdout",
     "output_type": "stream",
     "text": [
      "It took 0.7581865787506104 seconds! 5700\n"
     ]
    },
    {
     "name": "stdout",
     "output_type": "stream",
     "text": [
      "It took 0.8250374794006348 seconds! 5800\n"
     ]
    },
    {
     "name": "stdout",
     "output_type": "stream",
     "text": [
      "It took 0.909320592880249 seconds! 5900\n"
     ]
    },
    {
     "name": "stdout",
     "output_type": "stream",
     "text": [
      "It took 0.9061384201049805 seconds! 6000\n"
     ]
    },
    {
     "name": "stdout",
     "output_type": "stream",
     "text": [
      "It took 0.9252452850341797 seconds! 6100\n"
     ]
    },
    {
     "name": "stdout",
     "output_type": "stream",
     "text": [
      "It took 0.9435074329376221 seconds! 6200\n"
     ]
    },
    {
     "name": "stdout",
     "output_type": "stream",
     "text": [
      "It took 0.9548590183258057 seconds! 6300\n"
     ]
    },
    {
     "name": "stdout",
     "output_type": "stream",
     "text": [
      "It took 1.1607463359832764 seconds! 6400\n"
     ]
    },
    {
     "name": "stdout",
     "output_type": "stream",
     "text": [
      "It took 1.309870719909668 seconds! 6500\n"
     ]
    },
    {
     "name": "stdout",
     "output_type": "stream",
     "text": [
      "It took 1.1427934169769287 seconds! 6600\n"
     ]
    },
    {
     "name": "stdout",
     "output_type": "stream",
     "text": [
      "It took 1.108922004699707 seconds! 6700\n"
     ]
    },
    {
     "name": "stdout",
     "output_type": "stream",
     "text": [
      "It took 1.1965184211730957 seconds! 6800\n"
     ]
    },
    {
     "name": "stdout",
     "output_type": "stream",
     "text": [
      "It took 1.2282731533050537 seconds! 6900\n"
     ]
    },
    {
     "name": "stdout",
     "output_type": "stream",
     "text": [
      "It took 1.2629187107086182 seconds! 7000\n"
     ]
    },
    {
     "name": "stdout",
     "output_type": "stream",
     "text": [
      "It took 1.218073844909668 seconds! 7100\n"
     ]
    },
    {
     "name": "stdout",
     "output_type": "stream",
     "text": [
      "It took 1.3370652198791504 seconds! 7200\n"
     ]
    },
    {
     "name": "stdout",
     "output_type": "stream",
     "text": [
      "It took 1.3756957054138184 seconds! 7300\n"
     ]
    },
    {
     "name": "stdout",
     "output_type": "stream",
     "text": [
      "It took 1.4458518028259277 seconds! 7400\n"
     ]
    },
    {
     "name": "stdout",
     "output_type": "stream",
     "text": [
      "It took 1.3965871334075928 seconds! 7500\n"
     ]
    },
    {
     "name": "stdout",
     "output_type": "stream",
     "text": [
      "It took 1.481990098953247 seconds! 7600\n"
     ]
    },
    {
     "name": "stdout",
     "output_type": "stream",
     "text": [
      "It took 1.526296615600586 seconds! 7700\n"
     ]
    },
    {
     "name": "stdout",
     "output_type": "stream",
     "text": [
      "It took 1.6414132118225098 seconds! 7800\n"
     ]
    },
    {
     "name": "stdout",
     "output_type": "stream",
     "text": [
      "It took 1.6133787631988525 seconds! 7900\n"
     ]
    },
    {
     "name": "stdout",
     "output_type": "stream",
     "text": [
      "It took 1.6726505756378174 seconds! 8000\n"
     ]
    },
    {
     "name": "stdout",
     "output_type": "stream",
     "text": [
      "It took 1.5469350814819336 seconds! 8100\n"
     ]
    },
    {
     "name": "stdout",
     "output_type": "stream",
     "text": [
      "It took 1.8003020286560059 seconds! 8200\n"
     ]
    },
    {
     "name": "stdout",
     "output_type": "stream",
     "text": [
      "It took 1.8508899211883545 seconds! 8300\n"
     ]
    },
    {
     "name": "stdout",
     "output_type": "stream",
     "text": [
      "It took 1.9117770195007324 seconds! 8400\n"
     ]
    },
    {
     "name": "stdout",
     "output_type": "stream",
     "text": [
      "It took 1.8813626766204834 seconds! 8500\n"
     ]
    },
    {
     "name": "stdout",
     "output_type": "stream",
     "text": [
      "It took 1.9153597354888916 seconds! 8600\n"
     ]
    },
    {
     "name": "stdout",
     "output_type": "stream",
     "text": [
      "It took 1.935131311416626 seconds! 8700\n"
     ]
    },
    {
     "name": "stdout",
     "output_type": "stream",
     "text": [
      "It took 1.9812452793121338 seconds! 8800\n"
     ]
    },
    {
     "name": "stdout",
     "output_type": "stream",
     "text": [
      "It took 2.2388367652893066 seconds! 8900\n"
     ]
    },
    {
     "name": "stdout",
     "output_type": "stream",
     "text": [
      "It took 2.5153706073760986 seconds! 9000\n"
     ]
    },
    {
     "name": "stdout",
     "output_type": "stream",
     "text": [
      "It took 2.6905832290649414 seconds! 9100\n"
     ]
    },
    {
     "name": "stdout",
     "output_type": "stream",
     "text": [
      "It took 2.6240286827087402 seconds! 9200\n"
     ]
    },
    {
     "name": "stdout",
     "output_type": "stream",
     "text": [
      "It took 2.725355625152588 seconds! 9300\n"
     ]
    },
    {
     "name": "stdout",
     "output_type": "stream",
     "text": [
      "It took 2.7206814289093018 seconds! 9400\n"
     ]
    },
    {
     "name": "stdout",
     "output_type": "stream",
     "text": [
      "It took 2.7024853229522705 seconds! 9500\n"
     ]
    },
    {
     "name": "stdout",
     "output_type": "stream",
     "text": [
      "It took 2.8690361976623535 seconds! 9600\n"
     ]
    },
    {
     "name": "stdout",
     "output_type": "stream",
     "text": [
      "It took 2.8145132064819336 seconds! 9700\n"
     ]
    },
    {
     "name": "stdout",
     "output_type": "stream",
     "text": [
      "It took 2.8213531970977783 seconds! 9800\n"
     ]
    },
    {
     "name": "stdout",
     "output_type": "stream",
     "text": [
      "It took 2.9118006229400635 seconds! 9900\n"
     ]
    },
    {
     "name": "stdout",
     "output_type": "stream",
     "text": [
      "It took 3.051361560821533 seconds! 10000\n"
     ]
    },
    {
     "name": "stdout",
     "output_type": "stream",
     "text": [
      "It took 3.1766366958618164 seconds! 10100\n"
     ]
    },
    {
     "name": "stdout",
     "output_type": "stream",
     "text": [
      "It took 2.9914255142211914 seconds! 10200\n"
     ]
    },
    {
     "name": "stdout",
     "output_type": "stream",
     "text": [
      "It took 2.9707064628601074 seconds! 10300\n"
     ]
    },
    {
     "name": "stdout",
     "output_type": "stream",
     "text": [
      "It took 3.2250306606292725 seconds! 10400\n"
     ]
    },
    {
     "name": "stdout",
     "output_type": "stream",
     "text": [
      "It took 3.425935745239258 seconds! 10500\n"
     ]
    },
    {
     "name": "stdout",
     "output_type": "stream",
     "text": [
      "It took 3.5153348445892334 seconds! 10600\n"
     ]
    },
    {
     "name": "stdout",
     "output_type": "stream",
     "text": [
      "It took 3.468191385269165 seconds! 10700\n"
     ]
    },
    {
     "name": "stdout",
     "output_type": "stream",
     "text": [
      "It took 3.5782063007354736 seconds! 10800\n"
     ]
    },
    {
     "name": "stdout",
     "output_type": "stream",
     "text": [
      "It took 3.762913942337036 seconds! 10900\n"
     ]
    },
    {
     "name": "stdout",
     "output_type": "stream",
     "text": [
      "It took 3.6893022060394287 seconds! 11000\n"
     ]
    },
    {
     "name": "stdout",
     "output_type": "stream",
     "text": [
      "It took 4.491278409957886 seconds! 11100\n"
     ]
    },
    {
     "name": "stdout",
     "output_type": "stream",
     "text": [
      "It took 3.866361379623413 seconds! 11200\n"
     ]
    },
    {
     "name": "stdout",
     "output_type": "stream",
     "text": [
      "It took 4.11526083946228 seconds! 11300\n"
     ]
    },
    {
     "name": "stdout",
     "output_type": "stream",
     "text": [
      "It took 4.611647844314575 seconds! 11400\n"
     ]
    },
    {
     "name": "stdout",
     "output_type": "stream",
     "text": [
      "It took 4.053020477294922 seconds! 11500\n"
     ]
    },
    {
     "name": "stdout",
     "output_type": "stream",
     "text": [
      "It took 4.30207085609436 seconds! 11600\n"
     ]
    },
    {
     "name": "stdout",
     "output_type": "stream",
     "text": [
      "It took 4.86958909034729 seconds! 11700\n"
     ]
    },
    {
     "name": "stdout",
     "output_type": "stream",
     "text": [
      "It took 4.325328826904297 seconds! 11800\n"
     ]
    },
    {
     "name": "stdout",
     "output_type": "stream",
     "text": [
      "It took 4.696042537689209 seconds! 11900\n"
     ]
    },
    {
     "name": "stdout",
     "output_type": "stream",
     "text": [
      "It took 4.746122121810913 seconds! 12000\n"
     ]
    },
    {
     "name": "stdout",
     "output_type": "stream",
     "text": [
      "It took 4.890866041183472 seconds! 12100\n"
     ]
    },
    {
     "name": "stdout",
     "output_type": "stream",
     "text": [
      "It took 5.04529333114624 seconds! 12200\n"
     ]
    },
    {
     "name": "stdout",
     "output_type": "stream",
     "text": [
      "It took 5.5914247035980225 seconds! 12300\n"
     ]
    },
    {
     "name": "stdout",
     "output_type": "stream",
     "text": [
      "It took 5.808964729309082 seconds! 12400\n"
     ]
    },
    {
     "name": "stdout",
     "output_type": "stream",
     "text": [
      "It took 5.145672559738159 seconds! 12500\n"
     ]
    },
    {
     "name": "stdout",
     "output_type": "stream",
     "text": [
      "It took 5.343597888946533 seconds! 12600\n"
     ]
    },
    {
     "name": "stdout",
     "output_type": "stream",
     "text": [
      "It took 5.392268896102905 seconds! 12700\n"
     ]
    },
    {
     "name": "stdout",
     "output_type": "stream",
     "text": [
      "It took 5.3373706340789795 seconds! 12800\n"
     ]
    },
    {
     "name": "stdout",
     "output_type": "stream",
     "text": [
      "It took 5.380482912063599 seconds! 12900\n"
     ]
    },
    {
     "name": "stdout",
     "output_type": "stream",
     "text": [
      "It took 5.554972171783447 seconds! 13000\n"
     ]
    },
    {
     "name": "stdout",
     "output_type": "stream",
     "text": [
      "It took 5.080349445343018 seconds! 13100\n"
     ]
    },
    {
     "name": "stdout",
     "output_type": "stream",
     "text": [
      "It took 6.193745851516724 seconds! 13200\n"
     ]
    },
    {
     "name": "stdout",
     "output_type": "stream",
     "text": [
      "It took 5.670447587966919 seconds! 13300\n"
     ]
    },
    {
     "name": "stdout",
     "output_type": "stream",
     "text": [
      "It took 5.839870452880859 seconds! 13400\n"
     ]
    },
    {
     "name": "stdout",
     "output_type": "stream",
     "text": [
      "It took 5.719510316848755 seconds! 13500\n"
     ]
    },
    {
     "name": "stdout",
     "output_type": "stream",
     "text": [
      "It took 6.496678113937378 seconds! 13600\n"
     ]
    },
    {
     "name": "stdout",
     "output_type": "stream",
     "text": [
      "It took 6.406628847122192 seconds! 13700\n"
     ]
    },
    {
     "name": "stdout",
     "output_type": "stream",
     "text": [
      "It took 6.417261123657227 seconds! 13800\n"
     ]
    },
    {
     "name": "stdout",
     "output_type": "stream",
     "text": [
      "It took 6.304067134857178 seconds! 13900\n"
     ]
    },
    {
     "name": "stdout",
     "output_type": "stream",
     "text": [
      "It took 5.90132999420166 seconds! 14000\n"
     ]
    },
    {
     "name": "stdout",
     "output_type": "stream",
     "text": [
      "It took 6.2233664989471436 seconds! 14100\n"
     ]
    },
    {
     "name": "stdout",
     "output_type": "stream",
     "text": [
      "It took 6.730436563491821 seconds! 14200\n"
     ]
    },
    {
     "name": "stdout",
     "output_type": "stream",
     "text": [
      "It took 6.731815814971924 seconds! 14300\n"
     ]
    },
    {
     "name": "stdout",
     "output_type": "stream",
     "text": [
      "It took 6.553205728530884 seconds! 14400\n"
     ]
    },
    {
     "name": "stdout",
     "output_type": "stream",
     "text": [
      "It took 6.713339805603027 seconds! 14500\n"
     ]
    },
    {
     "name": "stdout",
     "output_type": "stream",
     "text": [
      "It took 7.790304899215698 seconds! 14600\n"
     ]
    },
    {
     "name": "stdout",
     "output_type": "stream",
     "text": [
      "It took 6.571879863739014 seconds! 14700\n"
     ]
    },
    {
     "name": "stdout",
     "output_type": "stream",
     "text": [
      "It took 6.46989107131958 seconds! 14800\n"
     ]
    },
    {
     "name": "stdout",
     "output_type": "stream",
     "text": [
      "It took 7.545015335083008 seconds! 14900\n"
     ]
    },
    {
     "name": "stdout",
     "output_type": "stream",
     "text": [
      "It took 6.978824138641357 seconds! 15000\n"
     ]
    },
    {
     "name": "stdout",
     "output_type": "stream",
     "text": [
      "It took 7.222780227661133 seconds! 15100\n"
     ]
    },
    {
     "name": "stdout",
     "output_type": "stream",
     "text": [
      "It took 7.763516664505005 seconds! 15200\n"
     ]
    },
    {
     "name": "stdout",
     "output_type": "stream",
     "text": [
      "It took 7.503389358520508 seconds! 15300\n"
     ]
    },
    {
     "name": "stdout",
     "output_type": "stream",
     "text": [
      "It took 7.2362282276153564 seconds! 15400\n"
     ]
    },
    {
     "name": "stdout",
     "output_type": "stream",
     "text": [
      "It took 8.132450580596924 seconds! 15500\n"
     ]
    },
    {
     "name": "stdout",
     "output_type": "stream",
     "text": [
      "It took 7.667118072509766 seconds! 15600\n"
     ]
    },
    {
     "name": "stdout",
     "output_type": "stream",
     "text": [
      "It took 8.020696640014648 seconds! 15700\n"
     ]
    },
    {
     "name": "stdout",
     "output_type": "stream",
     "text": [
      "It took 8.21668815612793 seconds! 15800\n"
     ]
    },
    {
     "name": "stdout",
     "output_type": "stream",
     "text": [
      "It took 8.06187629699707 seconds! 15900\n"
     ]
    },
    {
     "name": "stdout",
     "output_type": "stream",
     "text": [
      "It took 8.4351487159729 seconds! 16000\n"
     ]
    },
    {
     "name": "stdout",
     "output_type": "stream",
     "text": [
      "It took 7.41568398475647 seconds! 16100\n"
     ]
    },
    {
     "name": "stdout",
     "output_type": "stream",
     "text": [
      "It took 8.043623685836792 seconds! 16200\n"
     ]
    },
    {
     "name": "stdout",
     "output_type": "stream",
     "text": [
      "It took 8.826748371124268 seconds! 16300\n"
     ]
    },
    {
     "name": "stdout",
     "output_type": "stream",
     "text": [
      "It took 7.613134860992432 seconds! 16400\n"
     ]
    },
    {
     "name": "stdout",
     "output_type": "stream",
     "text": [
      "It took 7.678304433822632 seconds! 16500\n"
     ]
    },
    {
     "name": "stdout",
     "output_type": "stream",
     "text": [
      "It took 7.505404949188232 seconds! 16600\n"
     ]
    },
    {
     "name": "stdout",
     "output_type": "stream",
     "text": [
      "It took 7.6361472606658936 seconds! 16700\n"
     ]
    },
    {
     "name": "stdout",
     "output_type": "stream",
     "text": [
      "It took 7.527032375335693 seconds! 16800\n"
     ]
    },
    {
     "name": "stdout",
     "output_type": "stream",
     "text": [
      "It took 7.568711757659912 seconds! 16900\n"
     ]
    },
    {
     "name": "stdout",
     "output_type": "stream",
     "text": [
      "It took 8.366225242614746 seconds! 17000\n"
     ]
    },
    {
     "name": "stdout",
     "output_type": "stream",
     "text": [
      "It took 7.7744669914245605 seconds! 17100\n"
     ]
    },
    {
     "name": "stdout",
     "output_type": "stream",
     "text": [
      "It took 8.63905119895935 seconds! 17200\n"
     ]
    },
    {
     "name": "stdout",
     "output_type": "stream",
     "text": [
      "It took 8.344765901565552 seconds! 17300\n"
     ]
    },
    {
     "name": "stdout",
     "output_type": "stream",
     "text": [
      "It took 8.07693338394165 seconds! 17400\n"
     ]
    },
    {
     "name": "stdout",
     "output_type": "stream",
     "text": [
      "It took 8.157225370407104 seconds! 17500\n"
     ]
    },
    {
     "name": "stdout",
     "output_type": "stream",
     "text": [
      "It took 7.927720069885254 seconds! 17600\n"
     ]
    },
    {
     "name": "stdout",
     "output_type": "stream",
     "text": [
      "It took 8.560913801193237 seconds! 17700\n"
     ]
    },
    {
     "name": "stdout",
     "output_type": "stream",
     "text": [
      "It took 8.55309510231018 seconds! 17800\n"
     ]
    },
    {
     "name": "stdout",
     "output_type": "stream",
     "text": [
      "It took 9.103876829147339 seconds! 17900\n"
     ]
    },
    {
     "name": "stdout",
     "output_type": "stream",
     "text": [
      "It took 9.214970350265503 seconds! 18000\n"
     ]
    },
    {
     "name": "stdout",
     "output_type": "stream",
     "text": [
      "It took 8.881598949432373 seconds! 18100\n"
     ]
    },
    {
     "name": "stdout",
     "output_type": "stream",
     "text": [
      "It took 8.871136665344238 seconds! 18200\n"
     ]
    },
    {
     "name": "stdout",
     "output_type": "stream",
     "text": [
      "It took 8.88978385925293 seconds! 18300\n"
     ]
    },
    {
     "name": "stdout",
     "output_type": "stream",
     "text": [
      "It took 9.262567520141602 seconds! 18400\n"
     ]
    },
    {
     "name": "stdout",
     "output_type": "stream",
     "text": [
      "It took 8.764754295349121 seconds! 18500\n"
     ]
    },
    {
     "name": "stdout",
     "output_type": "stream",
     "text": [
      "It took 9.303121328353882 seconds! 18600\n"
     ]
    },
    {
     "name": "stdout",
     "output_type": "stream",
     "text": [
      "It took 9.525993585586548 seconds! 18700\n"
     ]
    },
    {
     "name": "stdout",
     "output_type": "stream",
     "text": [
      "It took 9.310177564620972 seconds! 18800\n"
     ]
    },
    {
     "name": "stdout",
     "output_type": "stream",
     "text": [
      "It took 9.153038263320923 seconds! 18900\n"
     ]
    },
    {
     "name": "stdout",
     "output_type": "stream",
     "text": [
      "It took 9.37748408317566 seconds! 19000\n"
     ]
    },
    {
     "name": "stdout",
     "output_type": "stream",
     "text": [
      "It took 9.800621032714844 seconds! 19100\n"
     ]
    },
    {
     "name": "stdout",
     "output_type": "stream",
     "text": [
      "It took 9.312805414199829 seconds! 19200\n"
     ]
    },
    {
     "name": "stdout",
     "output_type": "stream",
     "text": [
      "It took 9.702941179275513 seconds! 19300\n"
     ]
    },
    {
     "name": "stdout",
     "output_type": "stream",
     "text": [
      "It took 9.841535568237305 seconds! 19400\n"
     ]
    },
    {
     "name": "stdout",
     "output_type": "stream",
     "text": [
      "It took 9.817603349685669 seconds! 19500\n"
     ]
    },
    {
     "name": "stdout",
     "output_type": "stream",
     "text": [
      "It took 9.509207248687744 seconds! 19600\n"
     ]
    },
    {
     "name": "stdout",
     "output_type": "stream",
     "text": [
      "It took 9.51966905593872 seconds! 19700\n"
     ]
    },
    {
     "name": "stdout",
     "output_type": "stream",
     "text": [
      "It took 10.086271524429321 seconds! 19800\n"
     ]
    },
    {
     "name": "stdout",
     "output_type": "stream",
     "text": [
      "It took 9.982481956481934 seconds! 19900\n"
     ]
    },
    {
     "name": "stdout",
     "output_type": "stream",
     "text": [
      "It took 9.847182512283325 seconds! 20000\n"
     ]
    },
    {
     "name": "stdout",
     "output_type": "stream",
     "text": [
      "It took 10.513434171676636 seconds! 20100\n"
     ]
    },
    {
     "name": "stdout",
     "output_type": "stream",
     "text": [
      "It took 11.306769847869873 seconds! 20200\n"
     ]
    },
    {
     "name": "stdout",
     "output_type": "stream",
     "text": [
      "It took 9.936672449111938 seconds! 20300\n"
     ]
    },
    {
     "ename": "KeyboardInterrupt",
     "evalue": "",
     "output_type": "error",
     "traceback": [
      "\u001b[0;31m---------------------------------------------------------------------------\u001b[0m",
      "\u001b[0;31mKeyboardInterrupt\u001b[0m                         Traceback (most recent call last)",
      "\u001b[0;32m/tmp/ipykernel_227/453419498.py\u001b[0m in \u001b[0;36m<cell line: 5>\u001b[0;34m()\u001b[0m\n\u001b[1;32m     11\u001b[0m     \u001b[0mselection_X1\u001b[0m\u001b[0;34m=\u001b[0m\u001b[0mX_train1\u001b[0m\u001b[0;34m[\u001b[0m\u001b[0;36m0\u001b[0m\u001b[0;34m:\u001b[0m\u001b[0mi\u001b[0m\u001b[0;34m,\u001b[0m\u001b[0;34m:\u001b[0m\u001b[0;34m]\u001b[0m\u001b[0;34m\u001b[0m\u001b[0;34m\u001b[0m\u001b[0m\n\u001b[1;32m     12\u001b[0m     \u001b[0mselection_Y1\u001b[0m\u001b[0;34m=\u001b[0m\u001b[0my_train1\u001b[0m\u001b[0;34m[\u001b[0m\u001b[0;36m0\u001b[0m\u001b[0;34m:\u001b[0m\u001b[0mi\u001b[0m\u001b[0;34m]\u001b[0m\u001b[0;34m\u001b[0m\u001b[0;34m\u001b[0m\u001b[0m\n\u001b[0;32m---> 13\u001b[0;31m     \u001b[0mclf\u001b[0m\u001b[0;34m.\u001b[0m\u001b[0mfit\u001b[0m\u001b[0;34m(\u001b[0m\u001b[0mselection_X1\u001b[0m\u001b[0;34m,\u001b[0m\u001b[0mselection_Y1\u001b[0m\u001b[0;34m)\u001b[0m\u001b[0;34m\u001b[0m\u001b[0;34m\u001b[0m\u001b[0m\n\u001b[0m\u001b[1;32m     14\u001b[0m     \u001b[0;31m# Calculate the end time and time taken\u001b[0m\u001b[0;34m\u001b[0m\u001b[0;34m\u001b[0m\u001b[0m\n\u001b[1;32m     15\u001b[0m     \u001b[0mend\u001b[0m \u001b[0;34m=\u001b[0m \u001b[0mtime\u001b[0m\u001b[0;34m.\u001b[0m\u001b[0mtime\u001b[0m\u001b[0;34m(\u001b[0m\u001b[0;34m)\u001b[0m\u001b[0;34m\u001b[0m\u001b[0;34m\u001b[0m\u001b[0m\n",
      "\u001b[0;32m/usr/local/lib/python3.10/dist-packages/sklearn/base.py\u001b[0m in \u001b[0;36mwrapper\u001b[0;34m(estimator, *args, **kwargs)\u001b[0m\n\u001b[1;32m   1472\u001b[0m                 )\n\u001b[1;32m   1473\u001b[0m             ):\n\u001b[0;32m-> 1474\u001b[0;31m                 \u001b[0;32mreturn\u001b[0m \u001b[0mfit_method\u001b[0m\u001b[0;34m(\u001b[0m\u001b[0mestimator\u001b[0m\u001b[0;34m,\u001b[0m \u001b[0;34m*\u001b[0m\u001b[0margs\u001b[0m\u001b[0;34m,\u001b[0m \u001b[0;34m**\u001b[0m\u001b[0mkwargs\u001b[0m\u001b[0;34m)\u001b[0m\u001b[0;34m\u001b[0m\u001b[0;34m\u001b[0m\u001b[0m\n\u001b[0m\u001b[1;32m   1475\u001b[0m \u001b[0;34m\u001b[0m\u001b[0m\n\u001b[1;32m   1476\u001b[0m         \u001b[0;32mreturn\u001b[0m \u001b[0mwrapper\u001b[0m\u001b[0;34m\u001b[0m\u001b[0;34m\u001b[0m\u001b[0m\n",
      "\u001b[0;32m/usr/local/lib/python3.10/dist-packages/sklearn/svm/_base.py\u001b[0m in \u001b[0;36mfit\u001b[0;34m(self, X, y, sample_weight)\u001b[0m\n\u001b[1;32m    248\u001b[0m \u001b[0;34m\u001b[0m\u001b[0m\n\u001b[1;32m    249\u001b[0m         \u001b[0mseed\u001b[0m \u001b[0;34m=\u001b[0m \u001b[0mrnd\u001b[0m\u001b[0;34m.\u001b[0m\u001b[0mrandint\u001b[0m\u001b[0;34m(\u001b[0m\u001b[0mnp\u001b[0m\u001b[0;34m.\u001b[0m\u001b[0miinfo\u001b[0m\u001b[0;34m(\u001b[0m\u001b[0;34m\"i\"\u001b[0m\u001b[0;34m)\u001b[0m\u001b[0;34m.\u001b[0m\u001b[0mmax\u001b[0m\u001b[0;34m)\u001b[0m\u001b[0;34m\u001b[0m\u001b[0;34m\u001b[0m\u001b[0m\n\u001b[0;32m--> 250\u001b[0;31m         \u001b[0mfit\u001b[0m\u001b[0;34m(\u001b[0m\u001b[0mX\u001b[0m\u001b[0;34m,\u001b[0m \u001b[0my\u001b[0m\u001b[0;34m,\u001b[0m \u001b[0msample_weight\u001b[0m\u001b[0;34m,\u001b[0m \u001b[0msolver_type\u001b[0m\u001b[0;34m,\u001b[0m \u001b[0mkernel\u001b[0m\u001b[0;34m,\u001b[0m \u001b[0mrandom_seed\u001b[0m\u001b[0;34m=\u001b[0m\u001b[0mseed\u001b[0m\u001b[0;34m)\u001b[0m\u001b[0;34m\u001b[0m\u001b[0;34m\u001b[0m\u001b[0m\n\u001b[0m\u001b[1;32m    251\u001b[0m         \u001b[0;31m# see comment on the other call to np.iinfo in this file\u001b[0m\u001b[0;34m\u001b[0m\u001b[0;34m\u001b[0m\u001b[0m\n\u001b[1;32m    252\u001b[0m \u001b[0;34m\u001b[0m\u001b[0m\n",
      "\u001b[0;32m/usr/local/lib/python3.10/dist-packages/sklearn/svm/_base.py\u001b[0m in \u001b[0;36m_dense_fit\u001b[0;34m(self, X, y, sample_weight, solver_type, kernel, random_seed)\u001b[0m\n\u001b[1;32m    327\u001b[0m             \u001b[0mself\u001b[0m\u001b[0;34m.\u001b[0m\u001b[0mfit_status_\u001b[0m\u001b[0;34m,\u001b[0m\u001b[0;34m\u001b[0m\u001b[0;34m\u001b[0m\u001b[0m\n\u001b[1;32m    328\u001b[0m             \u001b[0mself\u001b[0m\u001b[0;34m.\u001b[0m\u001b[0m_num_iter\u001b[0m\u001b[0;34m,\u001b[0m\u001b[0;34m\u001b[0m\u001b[0;34m\u001b[0m\u001b[0m\n\u001b[0;32m--> 329\u001b[0;31m         \u001b[0;34m)\u001b[0m \u001b[0;34m=\u001b[0m \u001b[0mlibsvm\u001b[0m\u001b[0;34m.\u001b[0m\u001b[0mfit\u001b[0m\u001b[0;34m(\u001b[0m\u001b[0;34m\u001b[0m\u001b[0;34m\u001b[0m\u001b[0m\n\u001b[0m\u001b[1;32m    330\u001b[0m             \u001b[0mX\u001b[0m\u001b[0;34m,\u001b[0m\u001b[0;34m\u001b[0m\u001b[0;34m\u001b[0m\u001b[0m\n\u001b[1;32m    331\u001b[0m             \u001b[0my\u001b[0m\u001b[0;34m,\u001b[0m\u001b[0;34m\u001b[0m\u001b[0;34m\u001b[0m\u001b[0m\n",
      "\u001b[0;31mKeyboardInterrupt\u001b[0m: "
     ]
    }
   ],
   "source": [
    "import time\n",
    "number =[]\n",
    "timearray=[]\n",
    "\n",
    "for i in np.arange(100,40000, 100):\n",
    "\n",
    "    # Calculate the start time\n",
    "    start = time.time()\n",
    "\n",
    "    # Code here\n",
    "    selection_X1=X_train1[0:i,:]\n",
    "    selection_Y1=y_train1[0:i]\n",
    "    clf.fit(selection_X1,selection_Y1)\n",
    "    # Calculate the end time and time taken\n",
    "    end = time.time()\n",
    "    length = end - start\n",
    "    timearray.append(length)\n",
    "    number.append(i)   \n",
    "    # Show the results : this can be altered however you like\n",
    "    print(\"It took\", length, \"seconds!\",i)\n",
    "print(number)  \n",
    "print(timearray)\n",
    "plt.plot(number, timearray)\n",
    "\n",
    "\n",
    "# naming the x axis\n",
    "plt.xlabel('number of data points')\n",
    "# naming the y axis\n",
    "plt.ylabel('time')\n",
    "\n",
    "# giving a title to my graph\n",
    "plt.title('number of data points affect on time')\n"
   ]
  }
 ],
 "metadata": {
  "kernelspec": {
   "argv": [
    "/usr/bin/python3",
    "-m",
    "ipykernel",
    "--HistoryManager.enabled=False",
    "--matplotlib=inline",
    "-c",
    "%config InlineBackend.figure_formats = set(['retina'])\nimport matplotlib; matplotlib.rcParams['figure.figsize'] = (12, 7)",
    "-f",
    "{connection_file}"
   ],
   "display_name": "pyROOT (Python 3)",
   "env": {
    "LD_LIBRARY_PATH": "/home/user/software/ROOT/installs/6.30.06/lib",
    "PYTHONPATH": "/home/user/software/ROOT/installs/6.30.06/lib",
    "ROOTSYS": "/home/user/software/ROOT/installs/6.30.06"
   },
   "language": "python",
   "metadata": {
    "cocalc": {
     "description": "Python 3 programming language",
     "priority": 100,
     "url": "https://www.python.org/"
    }
   },
   "name": "pyroot",
   "resource_dir": "/home/user/.local/share/jupyter/kernels/pyROOT"
  }
 },
 "nbformat": 4,
 "nbformat_minor": 4
}