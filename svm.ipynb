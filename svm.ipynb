{
 "cells": [
  {
   "cell_type": "code",
   "execution_count": 0,
   "id": "865577",
   "metadata": {
    "collapsed": false
   },
   "outputs": [],
   "source": [
    "import numpy as np\n",
    "import matplotlib.pyplot as plt \n",
    "from sklearn import svm\n",
    "import pandas as pd\n",
    "from sklearn.preprocessing import StandardScaler\n",
    "from sklearn.model_selection import train_test_split\n",
    "from sklearn.metrics import f1_score, accuracy_score, matthews_corrcoef, balanced_accuracy_score\n",
    "import time"
   ]
  },
  {
   "cell_type": "code",
   "execution_count": 0,
   "id": "7f4633",
   "metadata": {
    "collapsed": false
   },
   "outputs": [],
   "source": [
    "# load ROOT\n",
    "import ROOT"
   ]
  },
  {
   "cell_type": "code",
   "execution_count": 0,
   "id": "f3532e",
   "metadata": {
    "collapsed": false
   },
   "outputs": [],
   "source": [
    "# load TNeutron class\n",
    "ROOT.gSystem.Load('/home/user/data/ML/lib/v6_30/TNeutron_cc.so')"
   ]
  },
  {
   "cell_type": "code",
   "execution_count": 0,
   "id": "b0f7c6",
   "metadata": {
    "collapsed": false
   },
   "outputs": [],
   "source": [
    "# set the path to our simulation file\n",
    "#datapath = \"/home/user/data/ML/MLP_mult2/\"\n",
    "#datapath = \"/home/user/data/ML/e15118/\"\n",
    "datapath = \"/home/user/data/ML/stmona/\""
   ]
  },
  {
   "cell_type": "code",
   "execution_count": 0,
   "id": "0df372",
   "metadata": {
    "collapsed": false
   },
   "outputs": [],
   "source": [
    "# open the ROOT file and load the TTree that it contains\n",
    "#rootfile = ROOT.TFile(datapath + \"delta18_O262plus_2nThermal2.root\",\"READ\")\n",
    "# try this one for training\n",
    "rootfile = ROOT.TFile(datapath + \"tneutron_mult2_26O_24O+2n-uniform.root\",\"READ\")\n",
    "# try this one to test your trained model\n",
    "rootfile1 = ROOT.TFile(datapath + \"tneutron_mult2_26O_24O+2n-delta500keV.root\",\"READ\")\n",
    "tree1= rootfile1.Get(\"snt\")\n",
    "tree = rootfile.Get(\"snt\")\n",
    "#tree.Print()"
   ]
  },
  {
   "cell_type": "code",
   "execution_count": 0,
   "id": "eba443",
   "metadata": {
    "collapsed": false
   },
   "outputs": [],
   "source": [
    "# copy data from the tree\n",
    "entries = tree.GetEntries();\n",
    "hit_data = np.zeros((entries, 10));\n",
    "label = np.empty(entries);\n",
    "label.fill(9);\n",
    "for i in range(entries):\n",
    "  # get the tree index for the next entry on our list\n",
    "  # and load this entry from the TTree\n",
    "  tree.GetEntry(i)\n",
    "  # transfer the data for this entry to our numpy array\n",
    "  # x0\n",
    "  hit_data[i][0] = tree.g.x[0]\n",
    "  # y0\n",
    "  hit_data[i][1] = tree.g.y[0]\n",
    "  # z0\n",
    "  hit_data[i][2] = tree.g.z[0]\n",
    "  # t0\n",
    "  hit_data[i][3] = tree.g.t[0]\n",
    "  # q0\n",
    "  hit_data[i][4] = tree.g.q[0]\n",
    "  # x1\n",
    "  hit_data[i][5] = tree.g.x[1]\n",
    "  # y1\n",
    "  hit_data[i][6] = tree.g.y[1]\n",
    "  # z1\n",
    "  hit_data[i][7] = tree.g.z[1]\n",
    "  # t1\n",
    "  hit_data[i][8] = tree.g.t[1]\n",
    "  # q1\n",
    "  hit_data[i][9] = tree.g.q[1]\n",
    "  # label\n",
    "  label[i]= tree.signal\n",
    "  #label[i]= tree.target"
   ]
  },
  {
   "cell_type": "code",
   "execution_count": 0,
   "id": "9ba96f",
   "metadata": {
    "collapsed": false
   },
   "outputs": [],
   "source": [
    "# create calculated data matrix\n",
    "entries = tree.GetEntries();\n",
    "hit_calc= np.zeros((entries, 7));\n",
    "for i in range(entries):\n",
    "  # calculated quantities\n",
    "  tree.GetEntry(i);\n",
    "  hit_calc[i][0] = tree.g.GetVelocity(0);\n",
    "  hit_calc[i][1] = tree.g.GetVelocity(1);\n",
    "  hit_calc[i][2] = tree.g.HitSeparation(0,1);\n",
    "  hit_calc[i][3] = tree.g.HitVdiff(0,1);\n",
    "  hit_calc[i][4] = tree.g.HitOpeningAngle(0,1);\n",
    "  hit_calc[i][5] = tree.g.HitNSI(0,1);\n",
    "  hit_calc[i][6] = tree.g.HitScatteringAngle(0,1);"
   ]
  },
  {
   "cell_type": "code",
   "execution_count": 0,
   "id": "3c0ed4",
   "metadata": {
    "collapsed": false
   },
   "outputs": [],
   "source": [
    "# copy data from the tree\n",
    "entries1 = tree1.GetEntries();\n",
    "hit_data1 = np.zeros((entries1, 10));\n",
    "label1 = np.empty(entries1);\n",
    "label1.fill(9);\n",
    "for o in range(entries1):\n",
    "  # get the tree index for the next entry on our list\n",
    "  # and load this entry from the TTree\n",
    "  tree1.GetEntry(o)\n",
    "  # transfer the data for this entry to our numpy array\n",
    "  # x0\n",
    "  hit_data1[o][0] = tree1.g.x[0]\n",
    "  # y0\n",
    "  hit_data1[o][1] = tree1.g.y[0]\n",
    "  # z0\n",
    "  hit_data1[o][2] = tree1.g.z[0]\n",
    "  # t0\n",
    "  hit_data1[o][3] = tree1.g.t[0]\n",
    "  # q0\n",
    "  hit_data1[o][4] = tree1.g.q[0]\n",
    "  # x1\n",
    "  hit_data1[o][5] = tree1.g.x[1]\n",
    "  # y1\n",
    "  hit_data1[o][6] = tree1.g.y[1]\n",
    "  # z1\n",
    "  hit_data1[o][7] = tree1.g.z[1]\n",
    "  # t1\n",
    "  hit_data1[o][8] = tree1.g.t[1]\n",
    "  # q1\n",
    "  hit_data1[o][9] = tree1.g.q[1]\n",
    "  # label\n",
    "  label1[o]= tree1.signal"
   ]
  },
  {
   "cell_type": "code",
   "execution_count": 0,
   "id": "c74e42",
   "metadata": {
    "collapsed": false
   },
   "outputs": [],
   "source": [
    "# create calculated data matrix\n",
    "entries1 = tree1.GetEntries();\n",
    "hit_calc1= np.zeros((entries1, 7));\n",
    "for o in range(entries1):\n",
    "  # calculated quantities\n",
    "  tree1.GetEntry(o);\n",
    "  hit_calc1[o][0] = tree1.g.GetVelocity(0);\n",
    "  hit_calc1[o][1] = tree1.g.GetVelocity(1);\n",
    "  hit_calc1[o][2] = tree1.g.HitSeparation(0,1);\n",
    "  hit_calc1[o][3] = tree1.g.HitVdiff(0,1);\n",
    "  hit_calc1[o][4] = tree1.g.HitOpeningAngle(0,1);\n",
    "  hit_calc1[o][5] = tree1.g.HitNSI(0,1);\n",
    "  hit_calc1[o][6] = tree1.g.HitScatteringAngle(0,1);"
   ]
  },
  {
   "cell_type": "code",
   "execution_count": 0,
   "id": "068767",
   "metadata": {
    "collapsed": false
   },
   "outputs": [],
   "source": [
    "# Concatenate measured and calculated quantities\n",
    "input_data_min_max1 = np.concatenate((hit_data1, hit_calc1), axis=1)\n",
    "X1 = input_data_min_max1\n",
    "y1 = label1\n",
    "# Scale the features using Standered\n",
    "scaler = StandardScaler()\n",
    "Dataset_featured1 = scaler.fit_transform(X1)"
   ]
  },
  {
   "cell_type": "code",
   "execution_count": 0,
   "id": "93aee4",
   "metadata": {
    "collapsed": false
   },
   "outputs": [],
   "source": [
    "# Concatenate measured and calculated quantities\n",
    "input_data_min_max = np.concatenate((hit_data, hit_calc), axis=1)\n",
    "X = input_data_min_max\n",
    "y = label\n",
    "\n",
    "# Scale the features using Standered\n",
    "Dataset_featured = scaler.fit_transform(X)"
   ]
  },
  {
   "cell_type": "code",
   "execution_count": 0,
   "id": "ba7796",
   "metadata": {
    "collapsed": false
   },
   "outputs": [],
   "source": [
    "X_train1, X_test1, y_train1, y_test1 = train_test_split(Dataset_featured,y,test_size=0.01, random_state=1)\n",
    "clf = svm.SVC(kernel='linear', C=1, gamma='auto')\n",
    "print(len(X_train1))\n",
    "print(len(y_train1))"
   ]
  },
  {
   "cell_type": "code",
   "execution_count": 0,
   "id": "3d8930",
   "metadata": {
    "collapsed": false
   },
   "outputs": [],
   "source": [
    "number = []\n",
    "timearray = []\n",
    "accuracy_list = []\n",
    "bas_list = []\n",
    "F1_list = []\n",
    "Mc_list = []\n",
    "\n",
    "for i in range(100, 20000, 500):\n",
    "    start = time.time()\n",
    "    selection_X1 = X_train1[0:i, :]\n",
    "    selection_Y1 = y_train1[0:i]\n",
    "\n",
    "    clf.fit(selection_X1, selection_Y1)\n",
    "    y_pred = clf.predict(Dataset_featured1)\n",
    "    end = time.time()\n",
    "    length = end - start\n",
    "    \n",
    "    print(set(y1))\n",
    "    print(set(y_pred))\n",
    "    y1_series = pd.Series(y1)\n",
    "    y_pred_series = pd.Series(y_pred)\n",
    "    print(y1_series.unique())\n",
    "    print(y_pred_series.unique())\n",
    "\n",
    "\n",
    "    accuracy = accuracy_score(y1, y_pred)\n",
    "    Mc = matthews_corrcoef(y1, y_pred)\n",
    "    F1 = f1_score(y1, y_pred, average='micro')\n",
    "    bas = balanced_accuracy_score(y1, y_pred)\n",
    "\n",
    "\n",
    "    timearray.append(length)\n",
    "    number.append(i)\n",
    "    accuracy_list.append(accuracy)\n",
    "    bas_list.append(bas)\n",
    "    F1_list.append(F1)\n",
    "    Mc_list.append(Mc)\n",
    "\n",
    "    print(\"Accuracy:\", accuracy)\n",
    "    print(\"It took\", length, \"seconds!\", i)\n",
    "\n",
    "print(number)\n",
    "print(timearray)\n",
    "print(\"Accuracy:\", accuracy_list)\n",
    "print(\"F1 Accuracy:\", F1_list)\n",
    "print(\"bas Accuracy:\", bas_list)\n",
    "print(\"Mc Accuracy:\", Mc_list)\n",
    "\n",
    "plt.plot(number, accuracy_list, label=\"accuracy\")\n",
    "plt.plot(number, F1_list, label=\"F1\")\n",
    "plt.plot(number, bas_list, label=\"bas\")\n",
    "plt.plot(number, Mc_list, label=\"Mc\")\n",
    "\n",
    "plt.xlabel('number of data points')\n",
    "plt.ylabel('accuracy')\n",
    "plt.title('Accuracy')\n",
    "plt.legend()\n",
    "        \n"
   ]
  }
 ],
 "metadata": {
  "kernelspec": {
   "argv": [
    "/usr/bin/python3",
    "-m",
    "ipykernel",
    "--HistoryManager.enabled=False",
    "--matplotlib=inline",
    "-c",
    "%config InlineBackend.figure_formats = set(['retina'])\nimport matplotlib; matplotlib.rcParams['figure.figsize'] = (12, 7)",
    "-f",
    "{connection_file}"
   ],
   "display_name": "pyROOT (Python 3)",
   "env": {
    "LD_LIBRARY_PATH": "/home/user/software/ROOT/installs/6.30.06/lib",
    "PYTHONPATH": "/home/user/software/ROOT/installs/6.30.06/lib",
    "ROOTSYS": "/home/user/software/ROOT/installs/6.30.06"
   },
   "language": "python",
   "metadata": {
    "cocalc": {
     "description": "Python 3 programming language",
     "priority": 100,
     "url": "https://www.python.org/"
    }
   },
   "name": "pyroot",
   "resource_dir": "/home/user/.local/share/jupyter/kernels/pyROOT"
  }
 },
 "nbformat": 4,
 "nbformat_minor": 4
}
